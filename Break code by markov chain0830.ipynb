{
 "cells": [
  {
   "cell_type": "markdown",
   "metadata": {},
   "source": [
    "# Markov Chain Forecast Example"
   ]
  },
  {
   "cell_type": "markdown",
   "metadata": {},
   "source": [
    "# Markov Chain Basics"
   ]
  },
  {
   "cell_type": "markdown",
   "metadata": {},
   "source": [
    "# What is Transition Matrix (Stochastic Matrix)?"
   ]
  },
  {
   "cell_type": "code",
   "execution_count": 4,
   "metadata": {},
   "outputs": [],
   "source": [
    "# AIM: To Decrypt a text using MCMC approach. i.e. find decryption key which we will call cipher from now on.\n",
    "import string\n",
    "import math\n",
    "import random\n",
    "\n",
    "# This function takes as input a decryption key and creates a dict for key where each letter in the decryption key\n",
    "# maps to a alphabet For example if the decryption key is \"DGHJKL....\" this function will create a dict like {D:A,G:B,H:C....} \n",
    "def create_cipher_dict(cipher):\n",
    "    cipher_dict = {}\n",
    "    alphabet_list = list(string.ascii_uppercase)\n",
    "    for i in range(len(cipher)):\n",
    "        cipher_dict[alphabet_list[i]] = cipher[i]\n",
    "    return cipher_dict\n",
    "\n",
    "# This function takes a text and applies the cipher/key on the text and returns text.\n",
    "def apply_cipher_on_text(text,cipher):\n",
    "    cipher_dict = create_cipher_dict(cipher) \n",
    "    text = list(text)\n",
    "    newtext = \"\"\n",
    "    for elem in text:\n",
    "        if elem.upper() in cipher_dict:\n",
    "            newtext+=cipher_dict[elem.upper()]\n",
    "        else:\n",
    "            newtext+=\" \"\n",
    "    return newtext"
   ]
  },
  {
   "cell_type": "code",
   "execution_count": 5,
   "metadata": {},
   "outputs": [],
   "source": [
    "# This function takes as input a path to a long text and creates scoring_params dict which contains the \n",
    "# number of time each pair of alphabet appears together\n",
    "# Ex. {'AB':234,'TH':2343,'CD':23 ..}\n",
    "def create_scoring_params_dict(longtext_path):\n",
    "    scoring_params = {}\n",
    "    alphabet_list = list(string.ascii_uppercase)\n",
    "    with open(longtext_path) as fp:\n",
    "        for line in fp:\n",
    "            data = list(line.strip())\n",
    "            for i in range(len(data)-1):\n",
    "                alpha_i = data[i].upper()\n",
    "                alpha_j = data[i+1].upper()\n",
    "                if alpha_i not in alphabet_list and alpha_i != \" \":\n",
    "                    alpha_i = \" \"\n",
    "                if alpha_j not in alphabet_list and alpha_j != \" \":\n",
    "                    alpha_j = \" \"\n",
    "                key = alpha_i+alpha_j\n",
    "                if key in scoring_params:\n",
    "                    scoring_params[key]+=1\n",
    "                else:\n",
    "                    scoring_params[key]=1\n",
    "    return scoring_params"
   ]
  },
  {
   "cell_type": "code",
   "execution_count": 6,
   "metadata": {},
   "outputs": [],
   "source": [
    "# This function takes as input a text and creates scoring_params dict which contains the \n",
    "# number of time each pair of alphabet appears together\n",
    "# Ex. {'AB':234,'TH':2343,'CD':23 ..}\n",
    "\n",
    "def score_params_on_cipher(text):\n",
    "    scoring_params = {}\n",
    "    alphabet_list = list(string.ascii_uppercase)\n",
    "    data = list(text.strip())\n",
    "    for i in range(len(data)-1):\n",
    "        alpha_i =data[i].upper()\n",
    "        alpha_j = data[i+1].upper()\n",
    "        if alpha_i not in alphabet_list and alpha_i != \" \":\n",
    "            alpha_i = \" \"\n",
    "        if alpha_j not in alphabet_list and alpha_j != \" \":\n",
    "            alpha_j = \" \"\n",
    "        key = alpha_i+alpha_j\n",
    "        if key in scoring_params:\n",
    "            scoring_params[key]+=1\n",
    "        else:\n",
    "            scoring_params[key]=1\n",
    "    return scoring_params"
   ]
  },
  {
   "cell_type": "code",
   "execution_count": 7,
   "metadata": {},
   "outputs": [],
   "source": [
    "# This function takes the text to be decrypted and a cipher to score the cipher.\n",
    "# This function returns the log(score) metric\n",
    "\n",
    "def get_cipher_score(text,cipher,scoring_params):\n",
    "    cipher_dict = create_cipher_dict(cipher)\n",
    "    decrypted_text = apply_cipher_on_text(text,cipher)\n",
    "    scored_f = score_params_on_cipher(decrypted_text)\n",
    "    cipher_score = 0\n",
    "    for k,v in scored_f.items():\n",
    "        if k in scoring_params:\n",
    "            cipher_score += v*math.log(scoring_params[k])\n",
    "    return cipher_score"
   ]
  },
  {
   "cell_type": "code",
   "execution_count": 8,
   "metadata": {},
   "outputs": [],
   "source": [
    "# Generate a proposal cipher by swapping letters at two random location\n",
    "def generate_cipher(cipher):\n",
    "    pos1 = random.randint(0, len(list(cipher))-1)\n",
    "    pos2 = random.randint(0, len(list(cipher))-1)\n",
    "    if pos1 == pos2:\n",
    "        return generate_cipher(cipher)\n",
    "    else:\n",
    "        cipher = list(cipher)\n",
    "        pos1_alpha = cipher[pos1]\n",
    "        pos2_alpha = cipher[pos2]\n",
    "        cipher[pos1] = pos2_alpha\n",
    "        cipher[pos2] = pos1_alpha\n",
    "        return \"\".join(cipher)"
   ]
  },
  {
   "cell_type": "code",
   "execution_count": 9,
   "metadata": {},
   "outputs": [],
   "source": [
    "# Toss a random coin with robability of head p. If coin comes head return true else false.\n",
    "def random_coin(p):\n",
    "    unif = random.uniform(0,1)\n",
    "    if unif>=p:\n",
    "        return False\n",
    "    else:\n",
    "        return True"
   ]
  },
  {
   "cell_type": "code",
   "execution_count": 10,
   "metadata": {},
   "outputs": [],
   "source": [
    "# Takes as input a text to decrypt and runs a MCMC algorithm for n_iter. Returns the state having maximum score and also\n",
    "# the last few states \n",
    "def MCMC_decrypt(n_iter,cipher_text,scoring_params):\n",
    "    current_cipher = string.ascii_uppercase # Generate a random cipher to start\n",
    "    state_keeper = set()\n",
    "    best_state = ''\n",
    "    score = 0\n",
    "    for i in range(n_iter):\n",
    "        state_keeper.add(current_cipher)\n",
    "        proposed_cipher = generate_cipher(current_cipher)\n",
    "        score_current_cipher = get_cipher_score(cipher_text,current_cipher,scoring_params)\n",
    "        score_proposed_cipher = get_cipher_score(cipher_text,proposed_cipher,scoring_params)\n",
    "        acceptance_probability = min(1,math.exp(score_proposed_cipher-score_current_cipher))\n",
    "        if score_current_cipher>score:\n",
    "            best_state = current_cipher\n",
    "        if random_coin(acceptance_probability):\n",
    "            current_cipher = proposed_cipher\n",
    "        if i%500==0:\n",
    "            print (\"iter\",i,\":\",apply_cipher_on_text(cipher_text,current_cipher)[0:99])\n",
    "    return state_keeper,best_state\n"
   ]
  },
  {
   "cell_type": "code",
   "execution_count": 14,
   "metadata": {},
   "outputs": [
    {
     "name": "stdout",
     "output_type": "stream",
     "text": [
      "Text To Decode: GC ZMXVKF YGVK IQXC SXFCI UFZZS ZS IQK SFKK GPJ UFZUKF GEIXZP ZS QXC MNPYC IQK UGIEQDZFO EZVKFMKI DQXEQ DGC EGFKMKCCML SMNPY ZVKF IQK XFZP RKJCIKGJ FNCIMKJ IQK UGMK SGEK ZS G LZNPY DZAGP DGC FGXCKJ SKKRML SFZA IQK UXMMZD GPJ G SGXPI VZXEK XAUKFSKEIML GFIXENMGIKJ IQK DZFJC MKI AK CKK IQK EQXMJ GPJ JXK IQK CNFYKZP QGJ RKKP CXIIXPY DXIQ QXC SGEK INFPKJ IZDGFJC IQK SXFK YXVXPY IQK UGMAC ZS QXC QGPJC G DGFA GPJ G FNR GMIKFPGIKML GC IQK LZNPY DZAGP CUZOK QK FZCK GPJ GJVGPEXPY IZ IQK RKJ C QKGJ CGXJ DXIQ AZFK OXPJPKCC IQGP AXYQI QGVK RKKP KHUKEIKJ ZS QXA \n",
      "\n",
      "\n",
      "iter 0 : GC EMXVKF YGVK IQXC SXFCI UFEES ES IQK SFKK GPJ UFEUKF GZIXEP ES QXC MNPYC IQK UGIZQDEFO ZEVKFMKI D\n",
      "iter 500 : AL EMIVOR GAVO STIL WIRLS PREEW EW STO WROO AND PREPOR ACSIEN EW TIL MUNGL STO PASCTHERK CEVORMOS H\n",
      "iter 1000 : AS OMIVER GAVE THIS LIRST PROOL OL THE LREE AND PROPER ACTION OL HIS MUNGS THE PATCHWORK COVERMET W\n",
      "iter 1500 : AS OMIVER GAVE THIS LIRST PROOL OL THE LREE AND PROPER ACTION OL HIS MUNGS THE PATCHWORK COVERMET W\n",
      "iter 2000 : AS OLIVER GAVE THIS FIRST PROOF OF THE FREE AND PROPER ACTION OF HIS LUNGS THE PATCHWORK COVERLET W\n",
      "iter 2500 : AS OLIVER GAVE THIS FIRST PROOF OF THE FREE AND PROPER ACTION OF HIS LUNGS THE PATCHWORK COVERLET W\n",
      "iter 3000 : AS OLIVER GAVE THIS FIRST PROOF OF THE FREE AND PROPER ACTION OF HIS LUNGS THE PATCHWORK COVERLET W\n",
      "iter 3500 : AS OLIVER GAVE THIS FIRST PROOF OF THE FREE AND PROPER ACTION OF HIS LUNGS THE PATCHWORK COVERLET W\n",
      "iter 4000 : AS OLIVER GAVE THIS FIRST PROOF OF THE FREE AND PROPER ACTION OF HIS LUNGS THE PATCHWORK COVERLET W\n",
      "iter 4500 : AS OLIVER GAVE THIS FIRST PROOF OF THE FREE AND PROPER ACTION OF HIS LUNGS THE PATCHWORK COVERLET W\n",
      "iter 5000 : AS OLIVER GAVE THIS FIRST PROOF OF THE FREE AND PROPER ACTION OF HIS LUNGS THE PATCHWORK COVERLET W\n",
      "iter 5500 : AS OLIVER GAVE THIS FIRST PROOF OF THE FREE AND PROPER ACTION OF HIS LUNGS THE PATCHWORK COVERLET W\n",
      "iter 6000 : AS OLIVER GAVE THIS FIRST PROOF OF THE FREE AND PROPER ACTION OF HIS LUNGS THE PATCHWORK COVERLET W\n",
      "iter 6500 : AS OLIVER GAVE THIS FIRST PROOF OF THE FREE AND PROPER ACTION OF HIS LUNGS THE PATCHWORK COVERLET W\n",
      "iter 7000 : AS OLIVER GAVE THIS FIRST PROOF OF THE FREE AND PROPER ACTION OF HIS LUNGS THE PATCHWORK COVERLET W\n",
      "iter 7500 : AS OLIVER GAVE THIS FIRST PROOF OF THE FREE AND PROPER ACTION OF HIS LUNGS THE PATCHWORK COVERLET W\n",
      "iter 8000 : AS OLIVER GAVE THIS FIRST PROOF OF THE FREE AND PROPER ACTION OF HIS LUNGS THE PATCHWORK COVERLET W\n",
      "iter 8500 : AS OLIVER GAVE THIS FIRST PROOF OF THE FREE AND PROPER ACTION OF HIS LUNGS THE PATCHWORK COVERLET W\n",
      "iter 9000 : AS OLIVER GAVE THIS FIRST PROOF OF THE FREE AND PROPER ACTION OF HIS LUNGS THE PATCHWORK COVERLET W\n",
      "iter 9500 : AS OLIVER GAVE THIS FIRST PROOF OF THE FREE AND PROPER ACTION OF HIS LUNGS THE PATCHWORK COVERLET W\n",
      "\n",
      "\n",
      "Decoded Text: AS OLIVER GAVE THIS FIRST PROOF OF THE FREE AND PROPER ACTION OF HIS LUNGS THE PATCHWORK COVERLET WHICH WAS CARELESSLY FLUNG OVER THE IRON BEDSTEAD RUSTLED THE PALE FACE OF A YOUNG WOMAN WAS RAISED FEEBLY FROM THE PILLOW AND A FAINT VOICE IMPERFECTLY ARTICULATED THE WORDS LET ME SEE THE CHILD AND DIE THE SURGEON HAD BEEN SITTING WITH HIS FACE TURNED TOWARDS THE FIRE GIVING THE PALMS OF HIS HANDS A WARM AND A RUB ALTERNATELY AS THE YOUNG WOMAN SPOKE HE ROSE AND ADVANCING TO THE BED S HEAD SAID WITH MORE KINDNESS THAN MIGHT HAVE BEEN EXPECTED OF HIM \n",
      "\n",
      "\n",
      "MCMC KEY FOUND: MQSWCRAXTDEYLUKNHBFZPVJIGO\n",
      "ACTUAL DECRYPTION KEY: ICZNBKXGMPRQTWFDYEOLJVUAHS\n"
     ]
    }
   ],
   "source": [
    "## Run the Main Program:\n",
    "\n",
    "scoring_params = create_scoring_params_dict('/Users/yencth1/Downloads/Data science/Markov chain/War and peace.txt')\n",
    "\n",
    "plain_text = \"XZ STAVRK HXVR MYAZ OAKZM JKSSO SO MYR OKRR XDP JKSJRK XBMASD SO YAZ TWDHZ MYR JXMBYNSKF BSVRKTRM NYABY NXZ BXKRTRZZTQ OTWDH SVRK MYR AKSD ERPZMRXP KWZMTRP MYR JXTR OXBR SO X QSWDH NSIXD NXZ KXAZRP ORRETQ OKSI MYR JATTSN XDP X OXADM VSABR AIJRKORBMTQ XKMABWTXMRP MYR NSKPZ TRM IR ZRR MYR BYATP XDP PAR MYR ZWKHRSD YXP ERRD ZAMMADH NAMY YAZ OXBR MWKDRP MSNXKPZ MYR OAKR HAVADH MYR JXTIZ SO YAZ YXDPZ X NXKI XDP X KWE XTMRKDXMRTQ XZ MYR QSWDH NSIXD ZJSFR YR KSZR XDP XPVXDBADH MS MYR ERP Z YRXP ZXAP NAMY ISKR FADPDRZZ MYXD IAHYM YXVR ERRD RGJRBMRP SO YAI \"\n",
    "\n",
    "encryption_key = \"XEBPROHYAUFTIDSJLKZMWVNGQC\"\n",
    "cipher_text = apply_cipher_on_text(plain_text,encryption_key)\n",
    "decryption_key = \"ICZNBKXGMPRQTWFDYEOLJVUAHS\"\n",
    "\n",
    "print(\"Text To Decode:\", cipher_text)\n",
    "print (\"\\n\")\n",
    "states,best_state = MCMC_decrypt(10000,cipher_text,scoring_params)\n",
    "print (\"\\n\")\n",
    "print (\"Decoded Text:\",apply_cipher_on_text(cipher_text,best_state))\n",
    "print (\"\\n\")\n",
    "print (\"MCMC KEY FOUND:\",best_state)\n",
    "print (\"ACTUAL DECRYPTION KEY:\",decryption_key)"
   ]
  },
  {
   "cell_type": "code",
   "execution_count": null,
   "metadata": {},
   "outputs": [],
   "source": []
  },
  {
   "cell_type": "code",
   "execution_count": null,
   "metadata": {},
   "outputs": [],
   "source": []
  }
 ],
 "metadata": {
  "kernelspec": {
   "display_name": "Python 3",
   "language": "python",
   "name": "python3"
  },
  "language_info": {
   "codemirror_mode": {
    "name": "ipython",
    "version": 3
   },
   "file_extension": ".py",
   "mimetype": "text/x-python",
   "name": "python",
   "nbconvert_exporter": "python",
   "pygments_lexer": "ipython3",
   "version": "3.6.4"
  }
 },
 "nbformat": 4,
 "nbformat_minor": 2
}
